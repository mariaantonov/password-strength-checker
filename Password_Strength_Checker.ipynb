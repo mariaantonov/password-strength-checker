{
  "nbformat": 4,
  "nbformat_minor": 0,
  "metadata": {
    "colab": {
      "provenance": [],
      "authorship_tag": "ABX9TyMntc7sb2IT1u+IO5/sOw3X",
      "include_colab_link": true
    },
    "kernelspec": {
      "name": "python3",
      "display_name": "Python 3"
    },
    "language_info": {
      "name": "python"
    }
  },
  "cells": [
    {
      "cell_type": "markdown",
      "metadata": {
        "id": "view-in-github",
        "colab_type": "text"
      },
      "source": [
        "<a href=\"https://colab.research.google.com/github/mariaantonov/password-strength-checker/blob/main/Password_Strength_Checker.ipynb\" target=\"_parent\"><img src=\"https://colab.research.google.com/assets/colab-badge.svg\" alt=\"Open In Colab\"/></a>"
      ]
    },
    {
      "cell_type": "code",
      "execution_count": 1,
      "metadata": {
        "id": "9aXZ-MS4GTQw"
      },
      "outputs": [],
      "source": [
        "import re\n",
        "\n",
        "\n",
        "# Basic Password Strength Rules\n",
        "\n",
        "def basic_strength(password):\n",
        "    score = 0\n",
        "    feedback = []\n",
        "\n",
        "    if len(password) >= 12:\n",
        "        score += 1\n",
        "    else:\n",
        "        feedback.append(\"❌ Use at least 12 characters.\")\n",
        "\n",
        "    if re.search(r\"[A-Z]\", password):\n",
        "        score += 1\n",
        "    else:\n",
        "        feedback.append(\"❌ Add an uppercase letter.\")\n",
        "\n",
        "    if re.search(r\"[a-z]\", password):\n",
        "        score += 1\n",
        "    else:\n",
        "        feedback.append(\"❌ Add a lowercase letter.\")\n",
        "\n",
        "    if re.search(r\"\\d\", password):\n",
        "        score += 1\n",
        "    else:\n",
        "        feedback.append(\"❌ Include a number.\")\n",
        "\n",
        "    if re.search(r\"[!@#$%^&*(),.?\\\":{}|<>]\", password):\n",
        "        score += 1\n",
        "    else:\n",
        "        feedback.append(\"❌ Use a special character (e.g. @, #, $).\")\n",
        "\n",
        "    return score, feedback\n"
      ]
    },
    {
      "cell_type": "code",
      "source": [
        "your_password = input(\"Enter your password: \")\n",
        "score, feedback = basic_strength(your_password)\n",
        "\n",
        "print(f\"✅ Password Score: {score}/5\")\n",
        "for f in feedback:\n",
        "    print(f)"
      ],
      "metadata": {
        "colab": {
          "base_uri": "https://localhost:8080/"
        },
        "id": "BgXE9KEDGYB0",
        "outputId": "30126e39-a0c8-4cef-c51c-ae05f37e11d8"
      },
      "execution_count": 2,
      "outputs": [
        {
          "output_type": "stream",
          "name": "stdout",
          "text": [
            "Enter your password: password123\n",
            "✅ Password Score: 2/5\n",
            "❌ Use at least 12 characters.\n",
            "❌ Add an uppercase letter.\n",
            "❌ Use a special character (e.g. @, #, $).\n"
          ]
        }
      ]
    },
    {
      "cell_type": "code",
      "source": [
        "import hashlib\n",
        "import requests\n",
        "\n",
        "# Check Password Against Breach Database (HIBP)\n",
        "\n",
        "\n",
        "def check_hibp(password):\n",
        "    sha1 = hashlib.sha1(password.encode('utf-8')).hexdigest().upper()\n",
        "    prefix = sha1[:5]\n",
        "    suffix = sha1[5:]\n",
        "\n",
        "    url = f\"https://api.pwnedpasswords.com/range/{prefix}\"\n",
        "    response = requests.get(url)\n",
        "\n",
        "    if response.status_code != 200:\n",
        "        return \"Error: Could not connect to HIBP.\"\n",
        "\n",
        "    hashes = response.text.splitlines()\n",
        "    for line in hashes:\n",
        "        hash_suffix, count = line.split(':')\n",
        "        if hash_suffix == suffix:\n",
        "            return True, int(count)\n",
        "\n",
        "    return False, 0"
      ],
      "metadata": {
        "id": "iuJckH40Gc8Y"
      },
      "execution_count": 4,
      "outputs": []
    },
    {
      "cell_type": "code",
      "source": [
        "password = input(\"Enter a password to test: \")\n",
        "\n",
        "# Strength check\n",
        "score, feedback = basic_strength(password)\n",
        "print(f\"\\nStrength Score: {score}/5\")\n",
        "for f in feedback:\n",
        "    print(f)\n",
        "\n",
        "# Breach check\n",
        "breached, count = check_hibp(password)\n",
        "if breached:\n",
        "    print(f\"\\n⚠️ This password has been seen {count} times in data breaches!\")\n",
        "else:\n",
        "    print(\"\\n✅ This password has not been found in any known data breach.\")"
      ],
      "metadata": {
        "colab": {
          "base_uri": "https://localhost:8080/"
        },
        "id": "PieRKJXEGieU",
        "outputId": "1337bd9f-afe7-4570-8e5e-39846301e665"
      },
      "execution_count": 5,
      "outputs": [
        {
          "output_type": "stream",
          "name": "stdout",
          "text": [
            "Enter a password to test: password123\n",
            "\n",
            "Strength Score: 2/5\n",
            "❌ Use at least 12 characters.\n",
            "❌ Add an uppercase letter.\n",
            "❌ Use a special character (e.g. @, #, $).\n",
            "\n",
            "⚠️ This password has been seen 864904 times in data breaches!\n"
          ]
        }
      ]
    }
  ]
}